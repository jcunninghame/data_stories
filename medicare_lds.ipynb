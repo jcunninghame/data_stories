{
  "nbformat": 4,
  "nbformat_minor": 0,
  "metadata": {
    "colab": {
      "provenance": [],
      "authorship_tag": "ABX9TyNWX+abjstDjClmJ3+ozc0I",
      "include_colab_link": true
    },
    "kernelspec": {
      "name": "python3",
      "display_name": "Python 3"
    },
    "language_info": {
      "name": "python"
    }
  },
  "cells": [
    {
      "cell_type": "markdown",
      "metadata": {
        "id": "view-in-github",
        "colab_type": "text"
      },
      "source": [
        "<a href=\"https://colab.research.google.com/github/tuva-health/notebooks/blob/main/medicare_lds.ipynb\" target=\"_parent\"><img src=\"https://colab.research.google.com/assets/colab-badge.svg\" alt=\"Open In Colab\"/></a>"
      ]
    },
    {
      "cell_type": "markdown",
      "source": [
        "This notebook explores the patient population in the Medicare LDS SAF dataset."
      ],
      "metadata": {
        "id": "Y5CKnX5IrRqD"
      }
    },
    {
      "cell_type": "markdown",
      "source": [
        "# I. Import Data"
      ],
      "metadata": {
        "id": "8pkuic_lrg4S"
      }
    },
    {
      "cell_type": "code",
      "execution_count": 1,
      "metadata": {
        "id": "BcWYGCAgH0ow"
      },
      "outputs": [],
      "source": [
        "from google.colab import auth\n",
        "auth.authenticate_user()"
      ]
    },
    {
      "cell_type": "code",
      "source": [
        "from google.cloud import bigquery\n",
        "client = bigquery.Client(project='medicare-lds-five-percent')\n",
        "# client = bigquery.Client(project='tuva-claims-demo')"
      ],
      "metadata": {
        "id": "q9pTgsAwJRwV"
      },
      "execution_count": 2,
      "outputs": []
    },
    {
      "cell_type": "code",
      "source": [
        "sql_query = ('''SELECT *\n",
        "                FROM core.patient\n",
        "                ''')\n",
        "patient = client.query(sql_query).to_dataframe()\n",
        "\n",
        "sql_query = ('''SELECT *\n",
        "                FROM chronic_conditions.tuva_chronic_conditions_wide\n",
        "                ''')\n",
        "chronic_conditions = client.query(sql_query).to_dataframe()"
      ],
      "metadata": {
        "id": "Vcu1k-pHJf_Q"
      },
      "execution_count": 3,
      "outputs": []
    },
    {
      "cell_type": "code",
      "source": [
        "patient.isna().sum()"
      ],
      "metadata": {
        "colab": {
          "base_uri": "https://localhost:8080/"
        },
        "id": "ADuns5ETL2fS",
        "outputId": "fb194df9-a10d-479d-a653-6a958b40dba1"
      },
      "execution_count": 5,
      "outputs": [
        {
          "output_type": "execute_result",
          "data": {
            "text/plain": [
              "patient_id           0\n",
              "gender               0\n",
              "race                 0\n",
              "birth_date           0\n",
              "death_date     3158164\n",
              "death_flag           0\n",
              "first_name     3296240\n",
              "last_name      3296240\n",
              "address        3296240\n",
              "city           3296240\n",
              "state              453\n",
              "zip_code       3296240\n",
              "phone          3296240\n",
              "data_source          0\n",
              "dtype: int64"
            ]
          },
          "metadata": {},
          "execution_count": 5
        }
      ]
    }
  ]
}