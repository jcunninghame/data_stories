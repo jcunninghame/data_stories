{
  "nbformat": 4,
  "nbformat_minor": 0,
  "metadata": {
    "colab": {
      "provenance": [],
      "authorship_tag": "ABX9TyMpFkKinkAAtBdSFAO1S4ut",
      "include_colab_link": true
    },
    "kernelspec": {
      "name": "python3",
      "display_name": "Python 3"
    },
    "language_info": {
      "name": "python"
    }
  },
  "cells": [
    {
      "cell_type": "markdown",
      "metadata": {
        "id": "view-in-github",
        "colab_type": "text"
      },
      "source": [
        "<a href=\"https://colab.research.google.com/github/tuva-health/notebooks/blob/main/medicare_lds.ipynb\" target=\"_parent\"><img src=\"https://colab.research.google.com/assets/colab-badge.svg\" alt=\"Open In Colab\"/></a>"
      ]
    },
    {
      "cell_type": "markdown",
      "source": [
        "This notebook explores the Medicare LDS SAF dataset.  We purchased the Medicare LDS SAF from CMS for the purpose of building out the Tuva Project.  The dataset is from 2020 and includes 100% Part A claims 5% Part B claims and 100% member eligibility data.  From this data we created a true 5% sample, which the analytics below are based on. "
      ],
      "metadata": {
        "id": "Y5CKnX5IrRqD"
      }
    },
    {
      "cell_type": "markdown",
      "source": [
        "# I. Import Data"
      ],
      "metadata": {
        "id": "8pkuic_lrg4S"
      }
    },
    {
      "cell_type": "code",
      "execution_count": 1,
      "metadata": {
        "id": "BcWYGCAgH0ow"
      },
      "outputs": [],
      "source": [
        "from google.colab import auth\n",
        "auth.authenticate_user()"
      ]
    },
    {
      "cell_type": "code",
      "source": [
        "from google.cloud import bigquery\n",
        "client = bigquery.Client(project='medicare-lds-five-percent')\n",
        "# client = bigquery.Client(project='tuva-claims-demo')"
      ],
      "metadata": {
        "id": "q9pTgsAwJRwV"
      },
      "execution_count": 2,
      "outputs": []
    },
    {
      "cell_type": "code",
      "source": [
        "sql_query = ('''SELECT *\n",
        "                FROM core.patient\n",
        "                ''')\n",
        "patient = client.query(sql_query).to_dataframe()\n",
        "\n",
        "sql_query = ('''SELECT *\n",
        "                FROM chronic_conditions.tuva_chronic_conditions_wide\n",
        "                ''')\n",
        "chronic_conditions = client.query(sql_query).to_dataframe()"
      ],
      "metadata": {
        "id": "Vcu1k-pHJf_Q"
      },
      "execution_count": 3,
      "outputs": []
    },
    {
      "cell_type": "markdown",
      "source": [
        "# 2. Claims Data Profiling"
      ],
      "metadata": {
        "id": "oxNM-IgSsnbZ"
      }
    },
    {
      "cell_type": "code",
      "source": [
        "patient.isna().sum()"
      ],
      "metadata": {
        "colab": {
          "base_uri": "https://localhost:8080/"
        },
        "id": "ADuns5ETL2fS",
        "outputId": "56ba377a-cff6-4cdd-e0ab-da3943307c2f"
      },
      "execution_count": 4,
      "outputs": [
        {
          "output_type": "execute_result",
          "data": {
            "text/plain": [
              "patient_id           0\n",
              "gender               0\n",
              "race                 0\n",
              "birth_date           0\n",
              "death_date     3158164\n",
              "death_flag           0\n",
              "first_name     3296240\n",
              "last_name      3296240\n",
              "address        3296240\n",
              "city           3296240\n",
              "state              453\n",
              "zip_code       3296240\n",
              "phone          3296240\n",
              "data_source          0\n",
              "dtype: int64"
            ]
          },
          "metadata": {},
          "execution_count": 4
        }
      ]
    },
    {
      "cell_type": "code",
      "source": [
        "patient.info()"
      ],
      "metadata": {
        "id": "aBcOEiLku6c7",
        "outputId": "3bfad0a5-8149-409e-e962-c24cf86a9dd4",
        "colab": {
          "base_uri": "https://localhost:8080/"
        }
      },
      "execution_count": 9,
      "outputs": [
        {
          "output_type": "stream",
          "name": "stdout",
          "text": [
            "<class 'pandas.core.frame.DataFrame'>\n",
            "RangeIndex: 3296240 entries, 0 to 3296239\n",
            "Data columns (total 14 columns):\n",
            " #   Column       Dtype \n",
            "---  ------       ----- \n",
            " 0   patient_id   object\n",
            " 1   gender       object\n",
            " 2   race         object\n",
            " 3   birth_date   dbdate\n",
            " 4   death_date   dbdate\n",
            " 5   death_flag   Int64 \n",
            " 6   first_name   object\n",
            " 7   last_name    object\n",
            " 8   address      object\n",
            " 9   city         object\n",
            " 10  state        object\n",
            " 11  zip_code     object\n",
            " 12  phone        object\n",
            " 13  data_source  object\n",
            "dtypes: Int64(1), dbdate(2), object(11)\n",
            "memory usage: 355.2+ MB\n"
          ]
        }
      ]
    },
    {
      "cell_type": "markdown",
      "source": [
        "# 3. Patient Population"
      ],
      "metadata": {
        "id": "xjnL9tXlswEA"
      }
    },
    {
      "cell_type": "code",
      "source": [
        "patient.gender.value_counts()"
      ],
      "metadata": {
        "id": "EIrCAusat3Hp",
        "outputId": "f4d41080-5749-4923-fbc0-11bb7bc60f51",
        "colab": {
          "base_uri": "https://localhost:8080/"
        }
      },
      "execution_count": 5,
      "outputs": [
        {
          "output_type": "execute_result",
          "data": {
            "text/plain": [
              "female    1784785\n",
              "male      1511455\n",
              "Name: gender, dtype: int64"
            ]
          },
          "metadata": {},
          "execution_count": 5
        }
      ]
    },
    {
      "cell_type": "code",
      "source": [
        "patient.race.value_counts()"
      ],
      "metadata": {
        "id": "R6nLfRwLuwaK",
        "outputId": "42a5fe63-ef32-4de5-d7d8-ca32e43a0398",
        "colab": {
          "base_uri": "https://localhost:8080/"
        }
      },
      "execution_count": 6,
      "outputs": [
        {
          "output_type": "execute_result",
          "data": {
            "text/plain": [
              "white                               2584321\n",
              "black or african american            356208\n",
              "other race                           176049\n",
              "asian                                 88808\n",
              "unknown                               76589\n",
              "american indian or alaska native      14265\n",
              "Name: race, dtype: int64"
            ]
          },
          "metadata": {},
          "execution_count": 6
        }
      ]
    },
    {
      "cell_type": "code",
      "source": [
        "import pandas as pd\n",
        "from datetime import datetime"
      ],
      "metadata": {
        "id": "bQxI1TFGzjQr"
      },
      "execution_count": 16,
      "outputs": []
    },
    {
      "cell_type": "code",
      "source": [
        "# convert birth dates to datetime format\n",
        "patient['birth_date'] = pd.to_datetime(patient['birth_date'])\n",
        "\n",
        "# calculate age from birth date\n",
        "today = datetime.today()\n",
        "patient['age'] = (today - patient['birth_date']).astype('<m8[Y]')\n",
        "\n",
        "# define age groups\n",
        "bins = [0, 65, 75, 85, 90, 100]\n",
        "\n",
        "# define labels for age groups\n",
        "labels = ['0-65','65-75','75-85','85-90','90-100']\n",
        "\n",
        "# use pandas cut function to group ages into age groups\n",
        "patient['age_group'] = pd.cut(patient['age'], bins=bins, labels=labels)"
      ],
      "metadata": {
        "id": "6KcKK3oKycle"
      },
      "execution_count": 50,
      "outputs": []
    },
    {
      "cell_type": "code",
      "source": [
        "import matplotlib.pyplot as plt\n",
        "\n",
        "# calculate the relative frequencies of each category\n",
        "relative_frequencies = patient['age_group'].value_counts(normalize=True)\n",
        "\n",
        "# create a bar plot from the relative frequencies\n",
        "plt.bar(relative_frequencies.index, relative_frequencies.values)\n",
        "\n",
        "# set the y-axis label to \"Relative Frequency\"\n",
        "plt.ylabel('Relative Frequency')\n",
        "\n",
        "# # create a histogram from the category counts\n",
        "# plt.hist(category_counts, bins=len(category_counts))\n",
        "\n",
        "# # # set the x-axis labels to the category names\n",
        "# plt.xticks(range(len(category_counts)), category_counts.index)\n",
        "\n",
        "# # # show the histogram\n",
        "plt.show()"
      ],
      "metadata": {
        "id": "1hjIAoRk0MoW",
        "outputId": "9ce2d6e8-c4e8-40f5-ae2f-5c463a85e60c",
        "colab": {
          "base_uri": "https://localhost:8080/",
          "height": 265
        }
      },
      "execution_count": 51,
      "outputs": [
        {
          "output_type": "display_data",
          "data": {
            "text/plain": [
              "<Figure size 432x288 with 1 Axes>"
            ],
            "image/png": "[encoded data removed]"
          },
          "metadata": {
            "needs_background": "light"
          }
        }
      ]
    },
    {
      "cell_type": "code",
      "source": [
        "relative_frequencies"
      ],
      "metadata": {
        "id": "I-fVxBez4m5F",
        "outputId": "00dcf881-694d-4abd-9ffc-1440e311d848",
        "colab": {
          "base_uri": "https://localhost:8080/"
        }
      },
      "execution_count": 46,
      "outputs": [
        {
          "output_type": "execute_result",
          "data": {
            "text/plain": [
              "65-75     0.536528\n",
              "75-85     0.322856\n",
              "85-90     0.080244\n",
              "90-100    0.060371\n",
              "Name: age_group, dtype: float64"
            ]
          },
          "metadata": {},
          "execution_count": 46
        }
      ]
    },
    {
      "cell_type": "code",
      "source": [
        "patient.info()"
      ],
      "metadata": {
        "id": "GhZ4cfvG1x0k",
        "outputId": "b9c0a874-4433-476f-cf4d-ad77ccc5ce78",
        "colab": {
          "base_uri": "https://localhost:8080/"
        }
      },
      "execution_count": 28,
      "outputs": [
        {
          "output_type": "stream",
          "name": "stdout",
          "text": [
            "<class 'pandas.core.frame.DataFrame'>\n",
            "RangeIndex: 3296240 entries, 0 to 3296239\n",
            "Data columns (total 16 columns):\n",
            " #   Column       Dtype         \n",
            "---  ------       -----         \n",
            " 0   patient_id   object        \n",
            " 1   gender       object        \n",
            " 2   race         object        \n",
            " 3   birth_date   datetime64[ns]\n",
            " 4   death_date   dbdate        \n",
            " 5   death_flag   Int64         \n",
            " 6   first_name   object        \n",
            " 7   last_name    object        \n",
            " 8   address      object        \n",
            " 9   city         object        \n",
            " 10  state        object        \n",
            " 11  zip_code     object        \n",
            " 12  phone        object        \n",
            " 13  data_source  object        \n",
            " 14  age          float64       \n",
            " 15  age_group    category      \n",
            "dtypes: Int64(1), category(1), datetime64[ns](1), dbdate(1), float64(1), object(11)\n",
            "memory usage: 383.5+ MB\n"
          ]
        }
      ]
    },
    {
      "cell_type": "markdown",
      "source": [
        "# 4. PMPM"
      ],
      "metadata": {
        "id": "i1ubHt7Lsz8I"
      }
    },
    {
      "cell_type": "markdown",
      "source": [
        "# 5. Hospital Measures"
      ],
      "metadata": {
        "id": "aZBY8IJLs1wj"
      }
    }
  ]
}